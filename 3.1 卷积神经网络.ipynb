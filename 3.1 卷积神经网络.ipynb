{
 "cells": [
  {
   "cell_type": "code",
   "execution_count": 13,
   "metadata": {},
   "outputs": [],
   "source": [
    "import tensorflow as tf\n",
    "from tensorflow import keras\n",
    "import numpy as np\n",
    "import matplotlib.pyplot as plt\n",
    "%matplotlib inline"
   ]
  },
  {
   "cell_type": "code",
   "execution_count": 2,
   "metadata": {},
   "outputs": [],
   "source": [
    "#设置显存大小，动态使用显存\n",
    "physical_devices = tf.config.experimental.list_physical_devices('GPU')\n",
    "assert len(physical_devices) > 0, \"Not enough GPU hardware devices available\"\n",
    "tf.config.experimental.set_memory_growth(physical_devices[0], True)"
   ]
  },
  {
   "cell_type": "code",
   "execution_count": 30,
   "metadata": {},
   "outputs": [],
   "source": [
    "assert len(physical_devices) > 0, \"Not enough GPU hardware devices available\""
   ]
  },
  {
   "cell_type": "code",
   "execution_count": 3,
   "metadata": {},
   "outputs": [],
   "source": [
    "fash_data = keras.datasets.fashion_mnist\n",
    "(train_img,train_lab),(test_img,test_lab) = fash_data.load_data()"
   ]
  },
  {
   "cell_type": "code",
   "execution_count": 4,
   "metadata": {},
   "outputs": [
    {
     "data": {
      "text/plain": [
       "(60000, 28, 28)"
      ]
     },
     "execution_count": 4,
     "metadata": {},
     "output_type": "execute_result"
    }
   ],
   "source": [
    "train_img.shape"
   ]
  },
  {
   "cell_type": "code",
   "execution_count": 5,
   "metadata": {},
   "outputs": [],
   "source": [
    "#trian_img = np.expand_dims(train_img,-1)\n",
    "train_img = np.expand_dims(train_img,-1)\n",
    "test_img = np.expand_dims(test_img,-1)"
   ]
  },
  {
   "cell_type": "code",
   "execution_count": 6,
   "metadata": {},
   "outputs": [
    {
     "data": {
      "text/plain": [
       "(60000, 28, 28, 1)"
      ]
     },
     "execution_count": 6,
     "metadata": {},
     "output_type": "execute_result"
    }
   ],
   "source": [
    "train_img.shape"
   ]
  },
  {
   "cell_type": "code",
   "execution_count": 7,
   "metadata": {},
   "outputs": [
    {
     "data": {
      "text/plain": [
       "(28, 28, 1)"
      ]
     },
     "execution_count": 7,
     "metadata": {},
     "output_type": "execute_result"
    }
   ],
   "source": [
    "train_img.shape[1:]"
   ]
  },
  {
   "cell_type": "code",
   "execution_count": 21,
   "metadata": {},
   "outputs": [],
   "source": [
    "model = tf.keras.Sequential()\n",
    "model.add(tf.keras.layers.Conv2D(64,(3,3),\n",
    "                                input_shape=train_img.shape[1:],\n",
    "                                activation='relu',padding='same'))\n",
    "model.add(tf.keras.layers.Conv2D(64,(3,3),activation='relu',padding='same'))\n",
    "model.add(tf.keras.layers.MaxPool2D())\n",
    "model.add(tf.keras.layers.Dropout(0.5))\n",
    "model.add(tf.keras.layers.Conv2D(128,(3,3),activation='relu',padding='same'))\n",
    "model.add(tf.keras.layers.Conv2D(128,(3,3),activation='relu',padding='same'))\n",
    "model.add(tf.keras.layers.MaxPool2D())\n",
    "model.add(tf.keras.layers.Dropout(0.5))\n",
    "model.add(tf.keras.layers.Conv2D(256,(3,3),activation='relu',padding='same'))\n",
    "model.add(tf.keras.layers.Conv2D(256,(3,3),activation='relu',padding='same'))\n",
    "model.add(tf.keras.layers.MaxPool2D())\n",
    "model.add(tf.keras.layers.Dropout(0.5))\n",
    "model.add(tf.keras.layers.Conv2D(512,(3,3),activation='relu',padding='same'))\n",
    "model.add(tf.keras.layers.Conv2D(512,(3,3),activation='relu',padding='same'))\n",
    "model.add(tf.keras.layers.Dropout(0.5))\n",
    "model.add(tf.keras.layers.GlobalAveragePooling2D())\n",
    "model.add(tf.keras.layers.Dense(256,activation='relu'))\n",
    "model.add(tf.keras.layers.Dense(10,activation='softmax'))"
   ]
  },
  {
   "cell_type": "code",
   "execution_count": 22,
   "metadata": {},
   "outputs": [
    {
     "name": "stdout",
     "output_type": "stream",
     "text": [
      "Model: \"sequential_4\"\n",
      "_________________________________________________________________\n",
      "Layer (type)                 Output Shape              Param #   \n",
      "=================================================================\n",
      "conv2d_15 (Conv2D)           (None, 28, 28, 64)        640       \n",
      "_________________________________________________________________\n",
      "conv2d_16 (Conv2D)           (None, 28, 28, 64)        36928     \n",
      "_________________________________________________________________\n",
      "max_pooling2d_5 (MaxPooling2 (None, 14, 14, 64)        0         \n",
      "_________________________________________________________________\n",
      "dropout (Dropout)            (None, 14, 14, 64)        0         \n",
      "_________________________________________________________________\n",
      "conv2d_17 (Conv2D)           (None, 14, 14, 128)       73856     \n",
      "_________________________________________________________________\n",
      "conv2d_18 (Conv2D)           (None, 14, 14, 128)       147584    \n",
      "_________________________________________________________________\n",
      "max_pooling2d_6 (MaxPooling2 (None, 7, 7, 128)         0         \n",
      "_________________________________________________________________\n",
      "dropout_1 (Dropout)          (None, 7, 7, 128)         0         \n",
      "_________________________________________________________________\n",
      "conv2d_19 (Conv2D)           (None, 7, 7, 256)         295168    \n",
      "_________________________________________________________________\n",
      "conv2d_20 (Conv2D)           (None, 7, 7, 256)         590080    \n",
      "_________________________________________________________________\n",
      "max_pooling2d_7 (MaxPooling2 (None, 3, 3, 256)         0         \n",
      "_________________________________________________________________\n",
      "dropout_2 (Dropout)          (None, 3, 3, 256)         0         \n",
      "_________________________________________________________________\n",
      "conv2d_21 (Conv2D)           (None, 3, 3, 512)         1180160   \n",
      "_________________________________________________________________\n",
      "conv2d_22 (Conv2D)           (None, 3, 3, 512)         2359808   \n",
      "_________________________________________________________________\n",
      "dropout_3 (Dropout)          (None, 3, 3, 512)         0         \n",
      "_________________________________________________________________\n",
      "global_average_pooling2d_2 ( (None, 512)               0         \n",
      "_________________________________________________________________\n",
      "dense_3 (Dense)              (None, 256)               131328    \n",
      "_________________________________________________________________\n",
      "dense_4 (Dense)              (None, 10)                2570      \n",
      "=================================================================\n",
      "Total params: 4,818,122\n",
      "Trainable params: 4,818,122\n",
      "Non-trainable params: 0\n",
      "_________________________________________________________________\n"
     ]
    }
   ],
   "source": [
    "model.summary()"
   ]
  },
  {
   "cell_type": "code",
   "execution_count": 10,
   "metadata": {},
   "outputs": [],
   "source": [
    "model.compile(optimizer='adam',\n",
    "             loss = tf.keras.losses.sparse_categorical_crossentropy,\n",
    "             metrics=['acc'])"
   ]
  },
  {
   "cell_type": "code",
   "execution_count": 11,
   "metadata": {
    "scrolled": true
   },
   "outputs": [
    {
     "name": "stdout",
     "output_type": "stream",
     "text": [
      "Train on 60000 samples, validate on 10000 samples\n",
      "Epoch 1/30\n",
      "60000/60000 [==============================] - 5s 91us/sample - loss: 0.7948 - acc: 0.7421 - val_loss: 0.5408 - val_acc: 0.8154\n",
      "Epoch 2/30\n",
      "60000/60000 [==============================] - 5s 80us/sample - loss: 0.4897 - acc: 0.8295 - val_loss: 0.4601 - val_acc: 0.8448\n",
      "Epoch 3/30\n",
      "60000/60000 [==============================] - 7s 111us/sample - loss: 0.4317 - acc: 0.8500 - val_loss: 0.4326 - val_acc: 0.8508\n",
      "Epoch 4/30\n",
      "60000/60000 [==============================] - 6s 102us/sample - loss: 0.3937 - acc: 0.8608 - val_loss: 0.4160 - val_acc: 0.8514\n",
      "Epoch 5/30\n",
      "60000/60000 [==============================] - 4s 62us/sample - loss: 0.3659 - acc: 0.8716 - val_loss: 0.3912 - val_acc: 0.8636\n",
      "Epoch 6/30\n",
      "60000/60000 [==============================] - 4s 63us/sample - loss: 0.3453 - acc: 0.8786 - val_loss: 0.4106 - val_acc: 0.8534\n",
      "Epoch 7/30\n",
      "60000/60000 [==============================] - 4s 63us/sample - loss: 0.3300 - acc: 0.8842 - val_loss: 0.3622 - val_acc: 0.8754\n",
      "Epoch 8/30\n",
      "60000/60000 [==============================] - 3s 55us/sample - loss: 0.3128 - acc: 0.8894 - val_loss: 0.3552 - val_acc: 0.8768\n",
      "Epoch 9/30\n",
      "60000/60000 [==============================] - 3s 53us/sample - loss: 0.3063 - acc: 0.8927 - val_loss: 0.3436 - val_acc: 0.8780\n",
      "Epoch 10/30\n",
      "60000/60000 [==============================] - 3s 55us/sample - loss: 0.2915 - acc: 0.8957 - val_loss: 0.3225 - val_acc: 0.8884\n",
      "Epoch 11/30\n",
      "60000/60000 [==============================] - 4s 71us/sample - loss: 0.2826 - acc: 0.8996 - val_loss: 0.3385 - val_acc: 0.8849\n",
      "Epoch 12/30\n",
      "60000/60000 [==============================] - 4s 72us/sample - loss: 0.2733 - acc: 0.9021 - val_loss: 0.3143 - val_acc: 0.8908\n",
      "Epoch 13/30\n",
      "60000/60000 [==============================] - 5s 86us/sample - loss: 0.2705 - acc: 0.9024 - val_loss: 0.3184 - val_acc: 0.8879\n",
      "Epoch 14/30\n",
      "60000/60000 [==============================] - 4s 70us/sample - loss: 0.2630 - acc: 0.9053 - val_loss: 0.3237 - val_acc: 0.8864\n",
      "Epoch 15/30\n",
      "60000/60000 [==============================] - 4s 62us/sample - loss: 0.2547 - acc: 0.9089 - val_loss: 0.3416 - val_acc: 0.8847\n",
      "Epoch 16/30\n",
      "60000/60000 [==============================] - 4s 68us/sample - loss: 0.2480 - acc: 0.9109 - val_loss: 0.3330 - val_acc: 0.8862\n",
      "Epoch 17/30\n",
      "60000/60000 [==============================] - 4s 70us/sample - loss: 0.2402 - acc: 0.9134 - val_loss: 0.3205 - val_acc: 0.8917\n",
      "Epoch 18/30\n",
      "60000/60000 [==============================] - 4s 65us/sample - loss: 0.2395 - acc: 0.9139 - val_loss: 0.3416 - val_acc: 0.8866\n",
      "Epoch 19/30\n",
      "60000/60000 [==============================] - 3s 56us/sample - loss: 0.2335 - acc: 0.9163 - val_loss: 0.3681 - val_acc: 0.8728\n",
      "Epoch 20/30\n",
      "60000/60000 [==============================] - 3s 54us/sample - loss: 0.2280 - acc: 0.9176 - val_loss: 0.3231 - val_acc: 0.8913\n",
      "Epoch 21/30\n",
      "60000/60000 [==============================] - 3s 54us/sample - loss: 0.2259 - acc: 0.9192 - val_loss: 0.3474 - val_acc: 0.8825\n",
      "Epoch 22/30\n",
      "60000/60000 [==============================] - 4s 60us/sample - loss: 0.2197 - acc: 0.9216 - val_loss: 0.3436 - val_acc: 0.8879\n",
      "Epoch 23/30\n",
      "60000/60000 [==============================] - 4s 72us/sample - loss: 0.2150 - acc: 0.9239 - val_loss: 0.3039 - val_acc: 0.8993\n",
      "Epoch 24/30\n",
      "60000/60000 [==============================] - 3s 56us/sample - loss: 0.2130 - acc: 0.9240 - val_loss: 0.3138 - val_acc: 0.8966\n",
      "Epoch 25/30\n",
      "60000/60000 [==============================] - 3s 55us/sample - loss: 0.2099 - acc: 0.9236 - val_loss: 0.3212 - val_acc: 0.8929\n",
      "Epoch 26/30\n",
      "60000/60000 [==============================] - 5s 76us/sample - loss: 0.2041 - acc: 0.9267 - val_loss: 0.3291 - val_acc: 0.8905\n",
      "Epoch 27/30\n",
      "60000/60000 [==============================] - 5s 76us/sample - loss: 0.2008 - acc: 0.9286 - val_loss: 0.3650 - val_acc: 0.8875\n",
      "Epoch 28/30\n",
      "60000/60000 [==============================] - 5s 80us/sample - loss: 0.1998 - acc: 0.9275 - val_loss: 0.3441 - val_acc: 0.8878\n",
      "Epoch 29/30\n",
      "60000/60000 [==============================] - 6s 100us/sample - loss: 0.1920 - acc: 0.9305 - val_loss: 0.3241 - val_acc: 0.8921\n",
      "Epoch 30/30\n",
      "60000/60000 [==============================] - 5s 78us/sample - loss: 0.1908 - acc: 0.9311 - val_loss: 0.3282 - val_acc: 0.8923\n"
     ]
    }
   ],
   "source": [
    "history = model.fit(train_img,train_lab,epochs=30,validation_data=(test_img,test_lab))"
   ]
  },
  {
   "cell_type": "code",
   "execution_count": 12,
   "metadata": {},
   "outputs": [
    {
     "data": {
      "text/plain": [
       "dict_keys(['loss', 'acc', 'val_loss', 'val_acc'])"
      ]
     },
     "execution_count": 12,
     "metadata": {},
     "output_type": "execute_result"
    }
   ],
   "source": [
    "history.history.keys()"
   ]
  },
  {
   "cell_type": "code",
   "execution_count": 14,
   "metadata": {},
   "outputs": [
    {
     "data": {
      "text/plain": [
       "[<matplotlib.lines.Line2D at 0x7f96986ca630>]"
      ]
     },
     "execution_count": 14,
     "metadata": {},
     "output_type": "execute_result"
    },
    {
     "data": {
      "image/png": "[encoded data removed]",
      "text/plain": [
       "<Figure size 432x288 with 1 Axes>"
      ]
     },
     "metadata": {},
     "output_type": "display_data"
    }
   ],
   "source": [
    "plt.plot(history.epoch,history.history.get('acc'),label='acc')\n",
    "plt.plot(history.epoch,history.history.get('val_acc'),label='val_acc')"
   ]
  },
  {
   "cell_type": "code",
   "execution_count": 15,
   "metadata": {},
   "outputs": [
    {
     "data": {
      "text/plain": [
       "[<matplotlib.lines.Line2D at 0x7f96c0565438>]"
      ]
     },
     "execution_count": 15,
     "metadata": {},
     "output_type": "execute_result"
    },
    {
     "data": {
      "image/png": "[encoded data removed]",
      "text/plain": [
       "<Figure size 432x288 with 1 Axes>"
      ]
     },
     "metadata": {},
     "output_type": "display_data"
    }
   ],
   "source": [
    "plt.plot(history.epoch,history.history.get('loss'),label='loss')\n",
    "plt.plot(history.epoch,history.history.get('val_loss'),label='val_loss')"
   ]
  },
  {
   "cell_type": "code",
   "execution_count": 23,
   "metadata": {},
   "outputs": [],
   "source": [
    "model = tf.keras.Sequential()\n",
    "model.add(tf.keras.layers.Conv2D(64,(3,3),\n",
    "                                input_shape=train_img.shape[1:],\n",
    "                                activation='relu',padding='same'))\n",
    "model.add(tf.keras.layers.Conv2D(64,(3,3),activation='relu',padding='same'))\n",
    "model.add(tf.keras.layers.MaxPool2D())\n",
    "model.add(tf.keras.layers.Dropout(0.5))\n",
    "model.add(tf.keras.layers.Conv2D(128,(3,3),activation='relu',padding='same'))\n",
    "model.add(tf.keras.layers.Conv2D(128,(3,3),activation='relu',padding='same'))\n",
    "model.add(tf.keras.layers.MaxPool2D())\n",
    "model.add(tf.keras.layers.Dropout(0.5))\n",
    "model.add(tf.keras.layers.Conv2D(256,(3,3),activation='relu',padding='same'))\n",
    "model.add(tf.keras.layers.Conv2D(256,(3,3),activation='relu',padding='same'))\n",
    "model.add(tf.keras.layers.MaxPool2D())\n",
    "model.add(tf.keras.layers.Dropout(0.5))\n",
    "model.add(tf.keras.layers.Conv2D(512,(3,3),activation='relu',padding='same'))\n",
    "model.add(tf.keras.layers.Conv2D(512,(3,3),activation='relu',padding='same'))\n",
    "model.add(tf.keras.layers.Dropout(0.5))\n",
    "model.add(tf.keras.layers.GlobalAveragePooling2D())\n",
    "model.add(tf.keras.layers.Dense(256,activation='relu'))\n",
    "model.add(tf.keras.layers.Dense(10,activation='softmax'))"
   ]
  },
  {
   "cell_type": "code",
   "execution_count": 24,
   "metadata": {},
   "outputs": [],
   "source": [
    "model.compile(optimizer='adam',\n",
    "             loss = tf.keras.losses.sparse_categorical_crossentropy,\n",
    "             metrics=['acc'])"
   ]
  },
  {
   "cell_type": "code",
   "execution_count": 25,
   "metadata": {},
   "outputs": [
    {
     "name": "stdout",
     "output_type": "stream",
     "text": [
      "Train on 60000 samples, validate on 10000 samples\n",
      "Epoch 1/30\n",
      "60000/60000 [==============================] - 19s 317us/sample - loss: 0.8258 - acc: 0.6877 - val_loss: 0.4752 - val_acc: 0.8258\n",
      "Epoch 2/30\n",
      "60000/60000 [==============================] - 19s 309us/sample - loss: 0.4778 - acc: 0.8246 - val_loss: 0.3988 - val_acc: 0.8529\n",
      "Epoch 3/30\n",
      "60000/60000 [==============================] - 18s 306us/sample - loss: 0.4203 - acc: 0.8451 - val_loss: 0.3517 - val_acc: 0.8639\n",
      "Epoch 4/30\n",
      "60000/60000 [==============================] - 18s 302us/sample - loss: 0.3870 - acc: 0.8582 - val_loss: 0.3764 - val_acc: 0.8646\n",
      "Epoch 5/30\n",
      "60000/60000 [==============================] - 18s 305us/sample - loss: 0.3636 - acc: 0.8691 - val_loss: 0.3174 - val_acc: 0.8849\n",
      "Epoch 6/30\n",
      "60000/60000 [==============================] - 18s 301us/sample - loss: 0.3502 - acc: 0.8730 - val_loss: 0.3168 - val_acc: 0.8864\n",
      "Epoch 7/30\n",
      "60000/60000 [==============================] - 18s 305us/sample - loss: 0.3435 - acc: 0.8793 - val_loss: 0.3131 - val_acc: 0.8882\n",
      "Epoch 8/30\n",
      "60000/60000 [==============================] - 18s 303us/sample - loss: 0.3312 - acc: 0.8823 - val_loss: 0.3159 - val_acc: 0.8863\n",
      "Epoch 9/30\n",
      "60000/60000 [==============================] - 19s 311us/sample - loss: 0.3276 - acc: 0.8842 - val_loss: 0.3028 - val_acc: 0.8925\n",
      "Epoch 10/30\n",
      "60000/60000 [==============================] - 18s 298us/sample - loss: 0.3270 - acc: 0.8834 - val_loss: 0.2943 - val_acc: 0.8972\n",
      "Epoch 11/30\n",
      "60000/60000 [==============================] - 18s 300us/sample - loss: 0.3247 - acc: 0.8845 - val_loss: 0.2833 - val_acc: 0.8983\n",
      "Epoch 12/30\n",
      "60000/60000 [==============================] - 18s 295us/sample - loss: 0.3274 - acc: 0.8851 - val_loss: 0.2931 - val_acc: 0.8925\n",
      "Epoch 13/30\n",
      "60000/60000 [==============================] - 18s 298us/sample - loss: 0.3293 - acc: 0.8846 - val_loss: 0.3101 - val_acc: 0.8873\n",
      "Epoch 14/30\n",
      "60000/60000 [==============================] - 18s 307us/sample - loss: 0.3362 - acc: 0.8819 - val_loss: 0.3159 - val_acc: 0.8824\n",
      "Epoch 15/30\n",
      "60000/60000 [==============================] - 18s 301us/sample - loss: 0.3247 - acc: 0.8856 - val_loss: 0.3486 - val_acc: 0.8772\n",
      "Epoch 16/30\n",
      "60000/60000 [==============================] - 18s 302us/sample - loss: 0.3265 - acc: 0.8863 - val_loss: 0.2710 - val_acc: 0.9026\n",
      "Epoch 17/30\n",
      "60000/60000 [==============================] - 19s 313us/sample - loss: 0.3253 - acc: 0.8857 - val_loss: 0.2819 - val_acc: 0.9017\n",
      "Epoch 18/30\n",
      "60000/60000 [==============================] - 18s 306us/sample - loss: 0.3190 - acc: 0.8894 - val_loss: 0.2889 - val_acc: 0.9008\n",
      "Epoch 19/30\n",
      "60000/60000 [==============================] - 18s 300us/sample - loss: 0.3438 - acc: 0.8793 - val_loss: 0.3093 - val_acc: 0.8906\n",
      "Epoch 20/30\n",
      "60000/60000 [==============================] - 18s 306us/sample - loss: 0.3214 - acc: 0.8878 - val_loss: 0.2750 - val_acc: 0.9030\n",
      "Epoch 21/30\n",
      "60000/60000 [==============================] - 18s 303us/sample - loss: 0.3344 - acc: 0.8853 - val_loss: 0.2803 - val_acc: 0.8978\n",
      "Epoch 22/30\n",
      "60000/60000 [==============================] - 18s 302us/sample - loss: 0.3177 - acc: 0.8919 - val_loss: 0.2920 - val_acc: 0.8991\n",
      "Epoch 23/30\n",
      "60000/60000 [==============================] - 19s 321us/sample - loss: 0.3234 - acc: 0.8889 - val_loss: 0.3024 - val_acc: 0.8942\n",
      "Epoch 24/30\n",
      "60000/60000 [==============================] - 20s 336us/sample - loss: 0.3279 - acc: 0.8853 - val_loss: 0.2828 - val_acc: 0.9031\n",
      "Epoch 25/30\n",
      "60000/60000 [==============================] - 18s 304us/sample - loss: 0.3231 - acc: 0.8902 - val_loss: 0.2696 - val_acc: 0.9035\n",
      "Epoch 26/30\n",
      "60000/60000 [==============================] - 24s 405us/sample - loss: 0.3192 - acc: 0.8903 - val_loss: 0.2663 - val_acc: 0.9074\n",
      "Epoch 27/30\n",
      "60000/60000 [==============================] - 19s 310us/sample - loss: 0.3141 - acc: 0.8911 - val_loss: 0.2644 - val_acc: 0.9091\n",
      "Epoch 28/30\n",
      "60000/60000 [==============================] - 18s 297us/sample - loss: 0.3374 - acc: 0.8839 - val_loss: 0.3053 - val_acc: 0.8896\n",
      "Epoch 29/30\n",
      "60000/60000 [==============================] - 18s 297us/sample - loss: 0.3334 - acc: 0.8878 - val_loss: 0.2911 - val_acc: 0.8996\n",
      "Epoch 30/30\n",
      "60000/60000 [==============================] - 18s 302us/sample - loss: 0.3240 - acc: 0.8901 - val_loss: 0.2873 - val_acc: 0.9028\n"
     ]
    }
   ],
   "source": [
    "history = model.fit(train_img,train_lab,epochs=30,validation_data=(test_img,test_lab))"
   ]
  },
  {
   "cell_type": "code",
   "execution_count": 26,
   "metadata": {},
   "outputs": [
    {
     "data": {
      "text/plain": [
       "[<matplotlib.lines.Line2D at 0x7f9673a87048>]"
      ]
     },
     "execution_count": 26,
     "metadata": {},
     "output_type": "execute_result"
    },
    {
     "data": {
      "image/png": "[encoded data removed]",
      "text/plain": [
       "<Figure size 432x288 with 1 Axes>"
      ]
     },
     "metadata": {},
     "output_type": "display_data"
    }
   ],
   "source": [
    "history.history.keys()\n",
    "plt.plot(history.epoch,history.history.get('acc'),label='acc')\n",
    "plt.plot(history.epoch,history.history.get('val_acc'),label='val_acc')"
   ]
  },
  {
   "cell_type": "code",
   "execution_count": 27,
   "metadata": {},
   "outputs": [
    {
     "data": {
      "text/plain": [
       "[<matplotlib.lines.Line2D at 0x7f96807ca5c0>]"
      ]
     },
     "execution_count": 27,
     "metadata": {},
     "output_type": "execute_result"
    },
    {
     "data": {
      "image/png": "[encoded data removed]",
      "text/plain": [
       "<Figure size 432x288 with 1 Axes>"
      ]
     },
     "metadata": {},
     "output_type": "display_data"
    }
   ],
   "source": [
    "plt.plot(history.epoch,history.history.get('loss'),label='loss')\n",
    "plt.plot(history.epoch,history.history.get('val_loss'),label='val_loss')"
   ]
  }
 ],
 "metadata": {
  "kernelspec": {
   "display_name": "Python tf2",
   "language": "python",
   "name": "tf2"
  },
  "language_info": {
   "codemirror_mode": {
    "name": "ipython",
    "version": 3
   },
   "file_extension": ".py",
   "mimetype": "text/x-python",
   "name": "python",
   "nbconvert_exporter": "python",
   "pygments_lexer": "ipython3",
   "version": "3.6.9"
  }
 },
 "nbformat": 4,
 "nbformat_minor": 2
}
