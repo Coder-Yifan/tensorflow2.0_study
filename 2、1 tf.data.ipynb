{
 "cells": [
  {
   "cell_type": "markdown",
   "metadata": {},
   "source": [
    "### tf.data.dataset 包含一系列数据"
   ]
  },
  {
   "cell_type": "markdown",
   "metadata": {},
   "source": [
    "包含许多元素\n",
    "创建方式：  \n",
    "1、直接从tensorflow中创建 Dataset.from _tensor_slices()，numpy  \n",
    "2、对多个dataset进行处理得到新的  \n",
    "一个dataset对象包含多个元素，每个元素的结构都相同。每个元素包含一个或多个tf.tensor\n",
    "对象，这些对象被成为组件。"
   ]
  },
  {
   "cell_type": "markdown",
   "metadata": {},
   "source": [
    "对于这些可以直接迭代"
   ]
  },
  {
   "cell_type": "code",
   "execution_count": 1,
   "metadata": {},
   "outputs": [],
   "source": [
    "import tensorflow as tf"
   ]
  },
  {
   "cell_type": "code",
   "execution_count": 3,
   "metadata": {},
   "outputs": [],
   "source": [
    "data = tf.data.Dataset.from_tensor_slices([1,2,3,4,5,6])#参数为列表或array"
   ]
  },
  {
   "cell_type": "code",
   "execution_count": 4,
   "metadata": {},
   "outputs": [
    {
     "data": {
      "text/plain": [
       "<TensorSliceDataset shapes: (), types: tf.int32>"
      ]
     },
     "execution_count": 4,
     "metadata": {},
     "output_type": "execute_result"
    }
   ],
   "source": [
    "data"
   ]
  },
  {
   "cell_type": "code",
   "execution_count": 7,
   "metadata": {},
   "outputs": [
    {
     "name": "stdout",
     "output_type": "stream",
     "text": [
      "tf.Tensor(1, shape=(), dtype=int32)\n",
      "tf.Tensor(2, shape=(), dtype=int32)\n",
      "tf.Tensor(3, shape=(), dtype=int32)\n",
      "tf.Tensor(4, shape=(), dtype=int32)\n",
      "tf.Tensor(5, shape=(), dtype=int32)\n",
      "tf.Tensor(6, shape=(), dtype=int32)\n"
     ]
    }
   ],
   "source": [
    "for ele in data:\n",
    "    print(ele)"
   ]
  },
  {
   "cell_type": "code",
   "execution_count": 6,
   "metadata": {},
   "outputs": [
    {
     "name": "stdout",
     "output_type": "stream",
     "text": [
      "1\n",
      "2\n",
      "3\n",
      "4\n",
      "5\n",
      "6\n"
     ]
    }
   ],
   "source": [
    "for ele in data:\n",
    "    print(ele.numpy())"
   ]
  },
  {
   "cell_type": "code",
   "execution_count": 9,
   "metadata": {},
   "outputs": [],
   "source": [
    "data2 = tf.data.Dataset.from_tensor_slices([[1,2],[3,4],[5,6]])#参数为列表或array"
   ]
  },
  {
   "cell_type": "code",
   "execution_count": 14,
   "metadata": {},
   "outputs": [
    {
     "data": {
      "text/plain": [
       "<TensorSliceDataset shapes: (2,), types: tf.int32>"
      ]
     },
     "execution_count": 14,
     "metadata": {},
     "output_type": "execute_result"
    }
   ],
   "source": [
    "data2"
   ]
  },
  {
   "cell_type": "code",
   "execution_count": 10,
   "metadata": {},
   "outputs": [
    {
     "name": "stdout",
     "output_type": "stream",
     "text": [
      "tf.Tensor([1 2], shape=(2,), dtype=int32)\n",
      "tf.Tensor([3 4], shape=(2,), dtype=int32)\n",
      "tf.Tensor([5 6], shape=(2,), dtype=int32)\n"
     ]
    }
   ],
   "source": [
    "for ele in data2:\n",
    "    print(ele)"
   ]
  },
  {
   "cell_type": "code",
   "execution_count": 13,
   "metadata": {},
   "outputs": [
    {
     "name": "stdout",
     "output_type": "stream",
     "text": [
      "[1 2]\n",
      "[3 4]\n",
      "[5 6]\n"
     ]
    }
   ],
   "source": [
    "for ele in data2:\n",
    "    print(ele.numpy())"
   ]
  },
  {
   "cell_type": "code",
   "execution_count": 21,
   "metadata": {},
   "outputs": [],
   "source": [
    "data3 = tf.data.Dataset.from_tensor_slices({'a':[1,2,3],\n",
    "                                            'b':[4,5,6],\n",
    "                                            'c':[12,13,14]})#参数为列表或array"
   ]
  },
  {
   "cell_type": "code",
   "execution_count": 22,
   "metadata": {},
   "outputs": [
    {
     "data": {
      "text/plain": [
       "<TensorSliceDataset shapes: {a: (), b: (), c: ()}, types: {a: tf.int32, b: tf.int32, c: tf.int32}>"
      ]
     },
     "execution_count": 22,
     "metadata": {},
     "output_type": "execute_result"
    }
   ],
   "source": [
    "data3"
   ]
  },
  {
   "cell_type": "code",
   "execution_count": 23,
   "metadata": {},
   "outputs": [
    {
     "name": "stdout",
     "output_type": "stream",
     "text": [
      "{'a': <tf.Tensor: id=106, shape=(), dtype=int32, numpy=1>, 'b': <tf.Tensor: id=107, shape=(), dtype=int32, numpy=4>, 'c': <tf.Tensor: id=108, shape=(), dtype=int32, numpy=12>}\n",
      "{'a': <tf.Tensor: id=109, shape=(), dtype=int32, numpy=2>, 'b': <tf.Tensor: id=110, shape=(), dtype=int32, numpy=5>, 'c': <tf.Tensor: id=111, shape=(), dtype=int32, numpy=13>}\n",
      "{'a': <tf.Tensor: id=112, shape=(), dtype=int32, numpy=3>, 'b': <tf.Tensor: id=113, shape=(), dtype=int32, numpy=6>, 'c': <tf.Tensor: id=114, shape=(), dtype=int32, numpy=14>}\n"
     ]
    }
   ],
   "source": [
    "for ele in data3:\n",
    "    print(ele)"
   ]
  },
  {
   "cell_type": "code",
   "execution_count": 24,
   "metadata": {},
   "outputs": [],
   "source": [
    "import numpy as np"
   ]
  },
  {
   "cell_type": "code",
   "execution_count": 26,
   "metadata": {},
   "outputs": [],
   "source": [
    "data_arr = tf.data.Dataset.from_tensor_slices(np.array([[1,2],[3,4],[5,6]]))#参数为列表或array"
   ]
  },
  {
   "cell_type": "code",
   "execution_count": 27,
   "metadata": {},
   "outputs": [
    {
     "name": "stdout",
     "output_type": "stream",
     "text": [
      "tf.Tensor([1 2], shape=(2,), dtype=int64)\n",
      "tf.Tensor([3 4], shape=(2,), dtype=int64)\n",
      "tf.Tensor([5 6], shape=(2,), dtype=int64)\n"
     ]
    }
   ],
   "source": [
    "for ele in data_arr:\n",
    "    print(ele)"
   ]
  },
  {
   "cell_type": "code",
   "execution_count": 29,
   "metadata": {},
   "outputs": [
    {
     "name": "stdout",
     "output_type": "stream",
     "text": [
      "[1 2]\n",
      "[3 4]\n"
     ]
    }
   ],
   "source": [
    "for ele in data_arr.take(2):\n",
    "    print(ele.numpy())"
   ]
  },
  {
   "cell_type": "markdown",
   "metadata": {},
   "source": [
    "## dataset 的应用\n",
    "1、shuffle"
   ]
  },
  {
   "cell_type": "code",
   "execution_count": 54,
   "metadata": {},
   "outputs": [],
   "source": [
    "dataset = data_arr.shuffle(3)#选取多大数据量"
   ]
  },
  {
   "cell_type": "code",
   "execution_count": 55,
   "metadata": {},
   "outputs": [
    {
     "name": "stdout",
     "output_type": "stream",
     "text": [
      "tf.Tensor([1 2], shape=(2,), dtype=int64)\n",
      "tf.Tensor([3 4], shape=(2,), dtype=int64)\n",
      "tf.Tensor([5 6], shape=(2,), dtype=int64)\n"
     ]
    }
   ],
   "source": [
    "for ele in dataset:\n",
    "    print(ele)"
   ]
  },
  {
   "cell_type": "code",
   "execution_count": 56,
   "metadata": {},
   "outputs": [],
   "source": [
    "dataset = dataset.repeat(count=4)#重复三次shuffle"
   ]
  },
  {
   "cell_type": "code",
   "execution_count": 57,
   "metadata": {},
   "outputs": [
    {
     "name": "stdout",
     "output_type": "stream",
     "text": [
      "tf.Tensor([3 4], shape=(2,), dtype=int64)\n",
      "tf.Tensor([5 6], shape=(2,), dtype=int64)\n",
      "tf.Tensor([1 2], shape=(2,), dtype=int64)\n",
      "tf.Tensor([1 2], shape=(2,), dtype=int64)\n",
      "tf.Tensor([5 6], shape=(2,), dtype=int64)\n",
      "tf.Tensor([3 4], shape=(2,), dtype=int64)\n",
      "tf.Tensor([1 2], shape=(2,), dtype=int64)\n",
      "tf.Tensor([3 4], shape=(2,), dtype=int64)\n",
      "tf.Tensor([5 6], shape=(2,), dtype=int64)\n",
      "tf.Tensor([3 4], shape=(2,), dtype=int64)\n",
      "tf.Tensor([5 6], shape=(2,), dtype=int64)\n",
      "tf.Tensor([1 2], shape=(2,), dtype=int64)\n"
     ]
    }
   ],
   "source": [
    "for ele in dataset:\n",
    "    print(ele)"
   ]
  },
  {
   "cell_type": "code",
   "execution_count": 58,
   "metadata": {},
   "outputs": [],
   "source": [
    "dataset = dataset.batch(5)#切分成batch"
   ]
  },
  {
   "cell_type": "code",
   "execution_count": 59,
   "metadata": {},
   "outputs": [
    {
     "name": "stdout",
     "output_type": "stream",
     "text": [
      "tf.Tensor(\n",
      "[[3 4]\n",
      " [1 2]\n",
      " [5 6]\n",
      " [5 6]\n",
      " [1 2]], shape=(5, 2), dtype=int64)\n",
      "tf.Tensor(\n",
      "[[3 4]\n",
      " [3 4]\n",
      " [5 6]\n",
      " [1 2]\n",
      " [5 6]], shape=(5, 2), dtype=int64)\n",
      "tf.Tensor(\n",
      "[[1 2]\n",
      " [3 4]], shape=(2, 2), dtype=int64)\n"
     ]
    }
   ],
   "source": [
    "for ele in dataset:\n",
    "    print(ele)"
   ]
  },
  {
   "cell_type": "code",
   "execution_count": 52,
   "metadata": {},
   "outputs": [],
   "source": [
    "dataset = dataset.map(tf.square)"
   ]
  },
  {
   "cell_type": "code",
   "execution_count": 53,
   "metadata": {},
   "outputs": [
    {
     "name": "stdout",
     "output_type": "stream",
     "text": [
      "tf.Tensor(\n",
      "[[ 1  4  9]\n",
      " [16 25 36]], shape=(2, 3), dtype=int32)\n"
     ]
    }
   ],
   "source": [
    "for ele in dataset:\n",
    "    print(ele)"
   ]
  },
  {
   "cell_type": "markdown",
   "metadata": {},
   "source": [
    "## tf.dataset  的应用"
   ]
  },
  {
   "cell_type": "code",
   "execution_count": 28,
   "metadata": {},
   "outputs": [],
   "source": [
    "(train_img,train_lab),(test_img,test_lab) = tf.keras.datasets.mnist.load_data()"
   ]
  },
  {
   "cell_type": "code",
   "execution_count": 29,
   "metadata": {},
   "outputs": [],
   "source": [
    "train_img = train_img/255\n",
    "test_img = test_img/255"
   ]
  },
  {
   "cell_type": "code",
   "execution_count": 4,
   "metadata": {},
   "outputs": [],
   "source": [
    "ds_train_img = tf.data.Dataset.from_tensor_slices(train_img)"
   ]
  },
  {
   "cell_type": "code",
   "execution_count": 5,
   "metadata": {},
   "outputs": [],
   "source": [
    "ds_test_img = tf.data.Dataset.from_tensor_slices(test_img)"
   ]
  },
  {
   "cell_type": "code",
   "execution_count": 6,
   "metadata": {},
   "outputs": [
    {
     "data": {
      "text/plain": [
       "<TensorSliceDataset shapes: (28, 28), types: tf.float64>"
      ]
     },
     "execution_count": 6,
     "metadata": {},
     "output_type": "execute_result"
    }
   ],
   "source": [
    "ds_train_img"
   ]
  },
  {
   "cell_type": "code",
   "execution_count": 7,
   "metadata": {},
   "outputs": [],
   "source": [
    "ds_train_lab = tf.data.Dataset.from_tensor_slices(train_lab)\n",
    "ds_test_lab = tf.data.Dataset.from_tensor_slices(test_lab)"
   ]
  },
  {
   "cell_type": "code",
   "execution_count": 8,
   "metadata": {},
   "outputs": [
    {
     "data": {
      "text/plain": [
       "<TensorSliceDataset shapes: (), types: tf.uint8>"
      ]
     },
     "execution_count": 8,
     "metadata": {},
     "output_type": "execute_result"
    }
   ],
   "source": [
    "ds_train_lab"
   ]
  },
  {
   "cell_type": "markdown",
   "metadata": {},
   "source": [
    "可以直接放入,不需要每个都作dataset，也就是说可以直接跳过上几个步骤，直接这一步"
   ]
  },
  {
   "cell_type": "code",
   "execution_count": 30,
   "metadata": {},
   "outputs": [],
   "source": [
    "ds_train = tf.data.Dataset.zip((ds_train_img,ds_train_lab))\n",
    "ds_test = tf.data.Dataset.zip((ds_test_img,ds_test_lab))"
   ]
  },
  {
   "cell_type": "markdown",
   "metadata": {},
   "source": [
    "注意训练集和测试集的区别"
   ]
  },
  {
   "cell_type": "code",
   "execution_count": 31,
   "metadata": {},
   "outputs": [],
   "source": [
    "ds_train = ds_train.shuffle(10000).repeat().batch(64)\n",
    "ds_test = ds_test.batch(64)"
   ]
  },
  {
   "cell_type": "code",
   "execution_count": 12,
   "metadata": {},
   "outputs": [],
   "source": [
    "model = tf.keras.Sequential([\n",
    "    tf.keras.layers.Flatten(input_shape=(28,28)),\n",
    "    tf.keras.layers.Dense(128,activation='relu'),\n",
    "    tf.keras.layers.Dense(10,activation='softmax')\n",
    "])"
   ]
  },
  {
   "cell_type": "code",
   "execution_count": 14,
   "metadata": {},
   "outputs": [],
   "source": [
    "model.compile(optimizer='adam',\n",
    "             loss=tf.keras.losses.sparse_categorical_crossentropy,\n",
    "             metrics=['accuracy'])"
   ]
  },
  {
   "cell_type": "code",
   "execution_count": 32,
   "metadata": {},
   "outputs": [],
   "source": [
    "batch_size=64\n",
    "steps_per_epoch = train_img.shape[0]/batch_size"
   ]
  },
  {
   "cell_type": "code",
   "execution_count": 33,
   "metadata": {},
   "outputs": [
    {
     "data": {
      "text/plain": [
       "937.5"
      ]
     },
     "execution_count": 33,
     "metadata": {},
     "output_type": "execute_result"
    }
   ],
   "source": [
    "steps_per_epoch"
   ]
  },
  {
   "cell_type": "code",
   "execution_count": 34,
   "metadata": {},
   "outputs": [
    {
     "name": "stdout",
     "output_type": "stream",
     "text": [
      "Train for 937.5 steps, validate for 156.25 steps\n",
      "Epoch 1/5\n",
      "938/937 [==============================] - 2s 2ms/step - loss: 0.0462 - accuracy: 0.9863 - val_loss: 0.0829 - val_accuracy: 0.9756\n",
      "Epoch 2/5\n",
      "938/937 [==============================] - 2s 2ms/step - loss: 0.0377 - accuracy: 0.9888 - val_loss: 0.0711 - val_accuracy: 0.9778\n",
      "Epoch 3/5\n",
      "938/937 [==============================] - 2s 2ms/step - loss: 0.0305 - accuracy: 0.9911 - val_loss: 0.0784 - val_accuracy: 0.9763\n",
      "Epoch 4/5\n",
      "938/937 [==============================] - 2s 2ms/step - loss: 0.0250 - accuracy: 0.9931 - val_loss: 0.0770 - val_accuracy: 0.9777\n",
      "Epoch 5/5\n",
      "938/937 [==============================] - 2s 2ms/step - loss: 0.0207 - accuracy: 0.9942 - val_loss: 0.0744 - val_accuracy: 0.9790\n"
     ]
    }
   ],
   "source": [
    "history = model.fit(ds_train,epochs=5,steps_per_epoch=steps_per_epoch,\n",
    "                   validation_data=ds_test,\n",
    "                   validation_steps=test_img.shape[0]/batch_size)"
   ]
  },
  {
   "cell_type": "code",
   "execution_count": 21,
   "metadata": {},
   "outputs": [
    {
     "data": {
      "text/plain": [
       "[0.91806036, 0.9611207, 0.97254795, 0.9788946, 0.9829424]"
      ]
     },
     "execution_count": 21,
     "metadata": {},
     "output_type": "execute_result"
    }
   ],
   "source": [
    "history.history['accuracy']"
   ]
  }
 ],
 "metadata": {
  "kernelspec": {
   "display_name": "Python tf2",
   "language": "python",
   "name": "tf2"
  },
  "language_info": {
   "codemirror_mode": {
    "name": "ipython",
    "version": 3
   },
   "file_extension": ".py",
   "mimetype": "text/x-python",
   "name": "python",
   "nbconvert_exporter": "python",
   "pygments_lexer": "ipython3",
   "version": "3.6.9"
  }
 },
 "nbformat": 4,
 "nbformat_minor": 2
}
