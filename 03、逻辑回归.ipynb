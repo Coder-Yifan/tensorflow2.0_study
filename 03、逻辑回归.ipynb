{
 "cells": [
  {
   "cell_type": "code",
   "execution_count": 35,
   "metadata": {},
   "outputs": [],
   "source": [
    "import tensorflow as tf\n",
    "import pandas as pd\n",
    "from sklearn.metrics import auc\n",
    "import matplotlib.pyplot as plt\n",
    "%matplotlib inline"
   ]
  },
  {
   "cell_type": "code",
   "execution_count": 4,
   "metadata": {},
   "outputs": [],
   "source": [
    "data = pd.read_csv('dataset/credit-a.csv',header=None)"
   ]
  },
  {
   "cell_type": "code",
   "execution_count": 5,
   "metadata": {},
   "outputs": [
    {
     "data": {
      "text/html": [
       "<div>\n",
       "<style scoped>\n",
       "    .dataframe tbody tr th:only-of-type {\n",
       "        vertical-align: middle;\n",
       "    }\n",
       "\n",
       "    .dataframe tbody tr th {\n",
       "        vertical-align: top;\n",
       "    }\n",
       "\n",
       "    .dataframe thead th {\n",
       "        text-align: right;\n",
       "    }\n",
       "</style>\n",
       "<table border=\"1\" class=\"dataframe\">\n",
       "  <thead>\n",
       "    <tr style=\"text-align: right;\">\n",
       "      <th></th>\n",
       "      <th>0</th>\n",
       "      <th>1</th>\n",
       "      <th>2</th>\n",
       "      <th>3</th>\n",
       "      <th>4</th>\n",
       "      <th>5</th>\n",
       "      <th>6</th>\n",
       "      <th>7</th>\n",
       "      <th>8</th>\n",
       "      <th>9</th>\n",
       "      <th>10</th>\n",
       "      <th>11</th>\n",
       "      <th>12</th>\n",
       "      <th>13</th>\n",
       "      <th>14</th>\n",
       "      <th>15</th>\n",
       "    </tr>\n",
       "  </thead>\n",
       "  <tbody>\n",
       "    <tr>\n",
       "      <th>0</th>\n",
       "      <td>0</td>\n",
       "      <td>30.83</td>\n",
       "      <td>0.000</td>\n",
       "      <td>0</td>\n",
       "      <td>0</td>\n",
       "      <td>9</td>\n",
       "      <td>0</td>\n",
       "      <td>1.25</td>\n",
       "      <td>0</td>\n",
       "      <td>0</td>\n",
       "      <td>1</td>\n",
       "      <td>1</td>\n",
       "      <td>0</td>\n",
       "      <td>202</td>\n",
       "      <td>0.0</td>\n",
       "      <td>-1</td>\n",
       "    </tr>\n",
       "    <tr>\n",
       "      <th>1</th>\n",
       "      <td>1</td>\n",
       "      <td>58.67</td>\n",
       "      <td>4.460</td>\n",
       "      <td>0</td>\n",
       "      <td>0</td>\n",
       "      <td>8</td>\n",
       "      <td>1</td>\n",
       "      <td>3.04</td>\n",
       "      <td>0</td>\n",
       "      <td>0</td>\n",
       "      <td>6</td>\n",
       "      <td>1</td>\n",
       "      <td>0</td>\n",
       "      <td>43</td>\n",
       "      <td>560.0</td>\n",
       "      <td>-1</td>\n",
       "    </tr>\n",
       "    <tr>\n",
       "      <th>2</th>\n",
       "      <td>1</td>\n",
       "      <td>24.50</td>\n",
       "      <td>0.500</td>\n",
       "      <td>0</td>\n",
       "      <td>0</td>\n",
       "      <td>8</td>\n",
       "      <td>1</td>\n",
       "      <td>1.50</td>\n",
       "      <td>0</td>\n",
       "      <td>1</td>\n",
       "      <td>0</td>\n",
       "      <td>1</td>\n",
       "      <td>0</td>\n",
       "      <td>280</td>\n",
       "      <td>824.0</td>\n",
       "      <td>-1</td>\n",
       "    </tr>\n",
       "    <tr>\n",
       "      <th>3</th>\n",
       "      <td>0</td>\n",
       "      <td>27.83</td>\n",
       "      <td>1.540</td>\n",
       "      <td>0</td>\n",
       "      <td>0</td>\n",
       "      <td>9</td>\n",
       "      <td>0</td>\n",
       "      <td>3.75</td>\n",
       "      <td>0</td>\n",
       "      <td>0</td>\n",
       "      <td>5</td>\n",
       "      <td>0</td>\n",
       "      <td>0</td>\n",
       "      <td>100</td>\n",
       "      <td>3.0</td>\n",
       "      <td>-1</td>\n",
       "    </tr>\n",
       "    <tr>\n",
       "      <th>4</th>\n",
       "      <td>0</td>\n",
       "      <td>20.17</td>\n",
       "      <td>5.625</td>\n",
       "      <td>0</td>\n",
       "      <td>0</td>\n",
       "      <td>9</td>\n",
       "      <td>0</td>\n",
       "      <td>1.71</td>\n",
       "      <td>0</td>\n",
       "      <td>1</td>\n",
       "      <td>0</td>\n",
       "      <td>1</td>\n",
       "      <td>2</td>\n",
       "      <td>120</td>\n",
       "      <td>0.0</td>\n",
       "      <td>-1</td>\n",
       "    </tr>\n",
       "  </tbody>\n",
       "</table>\n",
       "</div>"
      ],
      "text/plain": [
       "   0      1      2   3   4   5   6     7   8   9   10  11  12   13     14  15\n",
       "0   0  30.83  0.000   0   0   9   0  1.25   0   0   1   1   0  202    0.0  -1\n",
       "1   1  58.67  4.460   0   0   8   1  3.04   0   0   6   1   0   43  560.0  -1\n",
       "2   1  24.50  0.500   0   0   8   1  1.50   0   1   0   1   0  280  824.0  -1\n",
       "3   0  27.83  1.540   0   0   9   0  3.75   0   0   5   0   0  100    3.0  -1\n",
       "4   0  20.17  5.625   0   0   9   0  1.71   0   1   0   1   2  120    0.0  -1"
      ]
     },
     "execution_count": 5,
     "metadata": {},
     "output_type": "execute_result"
    }
   ],
   "source": [
    "data.head()"
   ]
  },
  {
   "cell_type": "code",
   "execution_count": 7,
   "metadata": {},
   "outputs": [],
   "source": [
    "rename = dict()\n",
    "for col in data.columns:\n",
    "    rename[col]='f'+str(col)"
   ]
  },
  {
   "cell_type": "code",
   "execution_count": 9,
   "metadata": {},
   "outputs": [],
   "source": [
    "rename[15]='y'"
   ]
  },
  {
   "cell_type": "code",
   "execution_count": 10,
   "metadata": {},
   "outputs": [],
   "source": [
    "data.rename(columns=rename,inplace=True)"
   ]
  },
  {
   "cell_type": "code",
   "execution_count": 12,
   "metadata": {},
   "outputs": [
    {
     "data": {
      "text/plain": [
       " 1    357\n",
       "-1    296\n",
       "Name: y, dtype: int64"
      ]
     },
     "execution_count": 12,
     "metadata": {},
     "output_type": "execute_result"
    }
   ],
   "source": [
    "data['y'].value_counts()"
   ]
  },
  {
   "cell_type": "code",
   "execution_count": 15,
   "metadata": {},
   "outputs": [],
   "source": [
    "x = data.iloc[:,:-1]\n",
    "y = data['y']\n",
    "y = y.map(lambda x: 0 if x==-1 else x)"
   ]
  },
  {
   "cell_type": "code",
   "execution_count": 25,
   "metadata": {},
   "outputs": [],
   "source": [
    "model = tf.keras.Sequential()"
   ]
  },
  {
   "cell_type": "code",
   "execution_count": 26,
   "metadata": {},
   "outputs": [],
   "source": [
    "model.add(tf.keras.layers.Dense(10,input_shape=(15,),activation='relu'))\n",
    "model.add(tf.keras.layers.Dense(10,activation='relu'))\n",
    "model.add(tf.keras.layers.Dense(1,activation='sigmoid'))"
   ]
  },
  {
   "cell_type": "code",
   "execution_count": 27,
   "metadata": {},
   "outputs": [
    {
     "name": "stdout",
     "output_type": "stream",
     "text": [
      "Model: \"sequential_1\"\n",
      "_________________________________________________________________\n",
      "Layer (type)                 Output Shape              Param #   \n",
      "=================================================================\n",
      "dense_9 (Dense)              (None, 10)                160       \n",
      "_________________________________________________________________\n",
      "dense_10 (Dense)             (None, 10)                110       \n",
      "_________________________________________________________________\n",
      "dense_11 (Dense)             (None, 1)                 11        \n",
      "=================================================================\n",
      "Total params: 281\n",
      "Trainable params: 281\n",
      "Non-trainable params: 0\n",
      "_________________________________________________________________\n"
     ]
    }
   ],
   "source": [
    "model.summary()"
   ]
  },
  {
   "cell_type": "code",
   "execution_count": 29,
   "metadata": {},
   "outputs": [],
   "source": [
    "model.compile(optimizer='adam',loss=tf.keras.losses.binary_crossentropy,\n",
    "             metrics=['acc'])"
   ]
  },
  {
   "cell_type": "code",
   "execution_count": 30,
   "metadata": {},
   "outputs": [
    {
     "name": "stdout",
     "output_type": "stream",
     "text": [
      "WARNING:tensorflow:Falling back from v2 loop because of error: Failed to find data adapter that can handle input: <class 'pandas.core.frame.DataFrame'>, <class 'NoneType'>\n",
      "Train on 653 samples\n",
      "Epoch 1/100\n",
      "653/653 [==============================] - 0s 399us/sample - loss: 9.2100 - acc: 0.3369\n",
      "Epoch 2/100\n",
      "653/653 [==============================] - 0s 63us/sample - loss: 7.7967 - acc: 0.3446\n",
      "Epoch 3/100\n",
      "653/653 [==============================] - 0s 67us/sample - loss: 4.9354 - acc: 0.5207\n",
      "Epoch 4/100\n",
      "653/653 [==============================] - 0s 67us/sample - loss: 4.7624 - acc: 0.4946\n",
      "Epoch 5/100\n",
      "653/653 [==============================] - 0s 55us/sample - loss: 3.4233 - acc: 0.5528\n",
      "Epoch 6/100\n",
      "653/653 [==============================] - 0s 69us/sample - loss: 2.6071 - acc: 0.6294\n",
      "Epoch 7/100\n",
      "653/653 [==============================] - 0s 65us/sample - loss: 2.4844 - acc: 0.6585\n",
      "Epoch 8/100\n",
      "653/653 [==============================] - 0s 51us/sample - loss: 2.4451 - acc: 0.6677\n",
      "Epoch 9/100\n",
      "653/653 [==============================] - 0s 69us/sample - loss: 2.4094 - acc: 0.6738\n",
      "Epoch 10/100\n",
      "653/653 [==============================] - 0s 77us/sample - loss: 2.3980 - acc: 0.6968\n",
      "Epoch 11/100\n",
      "653/653 [==============================] - 0s 64us/sample - loss: 2.3546 - acc: 0.6815\n",
      "Epoch 12/100\n",
      "653/653 [==============================] - 0s 66us/sample - loss: 2.3668 - acc: 0.6784\n",
      "Epoch 13/100\n",
      "653/653 [==============================] - 0s 74us/sample - loss: 2.3145 - acc: 0.6891\n",
      "Epoch 14/100\n",
      "653/653 [==============================] - 0s 51us/sample - loss: 2.2590 - acc: 0.6998\n",
      "Epoch 15/100\n",
      "653/653 [==============================] - 0s 80us/sample - loss: 2.1648 - acc: 0.7029\n",
      "Epoch 16/100\n",
      "653/653 [==============================] - 0s 69us/sample - loss: 1.9305 - acc: 0.7014\n",
      "Epoch 17/100\n",
      "653/653 [==============================] - 0s 64us/sample - loss: 1.8438 - acc: 0.7106\n",
      "Epoch 18/100\n",
      "653/653 [==============================] - 0s 72us/sample - loss: 1.7500 - acc: 0.7167\n",
      "Epoch 19/100\n",
      "653/653 [==============================] - 0s 67us/sample - loss: 1.7384 - acc: 0.7029\n",
      "Epoch 20/100\n",
      "653/653 [==============================] - 0s 68us/sample - loss: 1.6471 - acc: 0.6845\n",
      "Epoch 21/100\n",
      "653/653 [==============================] - 0s 74us/sample - loss: 1.5905 - acc: 0.7060\n",
      "Epoch 22/100\n",
      "653/653 [==============================] - 0s 75us/sample - loss: 1.5123 - acc: 0.7228\n",
      "Epoch 23/100\n",
      "653/653 [==============================] - 0s 72us/sample - loss: 1.4451 - acc: 0.7060\n",
      "Epoch 24/100\n",
      "653/653 [==============================] - 0s 69us/sample - loss: 1.4133 - acc: 0.7320\n",
      "Epoch 25/100\n",
      "653/653 [==============================] - 0s 70us/sample - loss: 1.3422 - acc: 0.7121\n",
      "Epoch 26/100\n",
      "653/653 [==============================] - 0s 74us/sample - loss: 1.2567 - acc: 0.7259\n",
      "Epoch 27/100\n",
      "653/653 [==============================] - 0s 69us/sample - loss: 1.2673 - acc: 0.7152\n",
      "Epoch 28/100\n",
      "653/653 [==============================] - 0s 70us/sample - loss: 1.0747 - acc: 0.7259\n",
      "Epoch 29/100\n",
      "653/653 [==============================] - 0s 57us/sample - loss: 0.9224 - acc: 0.7274\n",
      "Epoch 30/100\n",
      "653/653 [==============================] - 0s 63us/sample - loss: 0.7060 - acc: 0.7427\n",
      "Epoch 31/100\n",
      "653/653 [==============================] - 0s 67us/sample - loss: 0.6551 - acc: 0.7489\n",
      "Epoch 32/100\n",
      "653/653 [==============================] - 0s 70us/sample - loss: 0.7614 - acc: 0.7489\n",
      "Epoch 33/100\n",
      "653/653 [==============================] - 0s 67us/sample - loss: 0.7659 - acc: 0.7305\n",
      "Epoch 34/100\n",
      "653/653 [==============================] - 0s 52us/sample - loss: 0.8362 - acc: 0.7198\n",
      "Epoch 35/100\n",
      "653/653 [==============================] - 0s 71us/sample - loss: 0.8241 - acc: 0.7305\n",
      "Epoch 36/100\n",
      "653/653 [==============================] - 0s 70us/sample - loss: 1.1127 - acc: 0.7167\n",
      "Epoch 37/100\n",
      "653/653 [==============================] - 0s 67us/sample - loss: 1.0965 - acc: 0.7381\n",
      "Epoch 38/100\n",
      "653/653 [==============================] - 0s 58us/sample - loss: 0.9161 - acc: 0.7305\n",
      "Epoch 39/100\n",
      "653/653 [==============================] - 0s 73us/sample - loss: 0.6008 - acc: 0.7642\n",
      "Epoch 40/100\n",
      "653/653 [==============================] - 0s 67us/sample - loss: 0.6595 - acc: 0.7550\n",
      "Epoch 41/100\n",
      "653/653 [==============================] - 0s 66us/sample - loss: 0.6198 - acc: 0.7596\n",
      "Epoch 42/100\n",
      "653/653 [==============================] - 0s 77us/sample - loss: 0.8766 - acc: 0.7335\n",
      "Epoch 43/100\n",
      "653/653 [==============================] - 0s 67us/sample - loss: 0.5892 - acc: 0.7749\n",
      "Epoch 44/100\n",
      "653/653 [==============================] - 0s 83us/sample - loss: 0.5746 - acc: 0.7779\n",
      "Epoch 45/100\n",
      "653/653 [==============================] - 0s 75us/sample - loss: 0.6892 - acc: 0.7519\n",
      "Epoch 46/100\n",
      "653/653 [==============================] - 0s 62us/sample - loss: 0.6283 - acc: 0.7565\n",
      "Epoch 47/100\n",
      "653/653 [==============================] - 0s 81us/sample - loss: 0.5691 - acc: 0.7703\n",
      "Epoch 48/100\n",
      "653/653 [==============================] - 0s 69us/sample - loss: 0.5587 - acc: 0.7871\n",
      "Epoch 49/100\n",
      "653/653 [==============================] - 0s 66us/sample - loss: 0.5485 - acc: 0.7856\n",
      "Epoch 50/100\n",
      "653/653 [==============================] - 0s 65us/sample - loss: 0.5628 - acc: 0.7718\n",
      "Epoch 51/100\n",
      "653/653 [==============================] - 0s 75us/sample - loss: 0.5474 - acc: 0.7795\n",
      "Epoch 52/100\n",
      "653/653 [==============================] - 0s 63us/sample - loss: 0.5618 - acc: 0.7764\n",
      "Epoch 53/100\n",
      "653/653 [==============================] - 0s 69us/sample - loss: 0.5796 - acc: 0.7672\n",
      "Epoch 54/100\n",
      "653/653 [==============================] - 0s 56us/sample - loss: 0.5602 - acc: 0.7657\n",
      "Epoch 55/100\n",
      "653/653 [==============================] - 0s 70us/sample - loss: 0.5869 - acc: 0.7734\n",
      "Epoch 56/100\n",
      "653/653 [==============================] - 0s 65us/sample - loss: 0.6106 - acc: 0.7596\n",
      "Epoch 57/100\n",
      "653/653 [==============================] - 0s 73us/sample - loss: 0.6323 - acc: 0.7642\n",
      "Epoch 58/100\n",
      "653/653 [==============================] - 0s 74us/sample - loss: 0.5931 - acc: 0.7626\n",
      "Epoch 59/100\n",
      "653/653 [==============================] - 0s 58us/sample - loss: 0.5193 - acc: 0.7933\n",
      "Epoch 60/100\n",
      "653/653 [==============================] - 0s 74us/sample - loss: 0.5286 - acc: 0.7856\n",
      "Epoch 61/100\n",
      "653/653 [==============================] - 0s 66us/sample - loss: 0.5984 - acc: 0.7779\n",
      "Epoch 62/100\n",
      "653/653 [==============================] - 0s 66us/sample - loss: 0.5726 - acc: 0.7657\n",
      "Epoch 63/100\n",
      "653/653 [==============================] - 0s 69us/sample - loss: 0.5048 - acc: 0.7825\n",
      "Epoch 64/100\n",
      "653/653 [==============================] - 0s 65us/sample - loss: 0.5778 - acc: 0.7795\n",
      "Epoch 65/100\n",
      "653/653 [==============================] - 0s 68us/sample - loss: 0.5275 - acc: 0.7933\n",
      "Epoch 66/100\n",
      "653/653 [==============================] - 0s 70us/sample - loss: 0.5105 - acc: 0.7887\n",
      "Epoch 67/100\n",
      "653/653 [==============================] - 0s 61us/sample - loss: 0.6329 - acc: 0.7718\n",
      "Epoch 68/100\n",
      "653/653 [==============================] - 0s 71us/sample - loss: 0.6152 - acc: 0.7458\n",
      "Epoch 69/100\n",
      "653/653 [==============================] - 0s 64us/sample - loss: 0.5075 - acc: 0.7902\n",
      "Epoch 70/100\n",
      "653/653 [==============================] - 0s 65us/sample - loss: 0.5361 - acc: 0.7795\n",
      "Epoch 71/100\n",
      "653/653 [==============================] - 0s 66us/sample - loss: 0.6955 - acc: 0.7642\n",
      "Epoch 72/100\n",
      "653/653 [==============================] - 0s 63us/sample - loss: 0.6121 - acc: 0.7596\n",
      "Epoch 73/100\n",
      "653/653 [==============================] - 0s 63us/sample - loss: 0.5436 - acc: 0.7917\n",
      "Epoch 74/100\n",
      "653/653 [==============================] - 0s 67us/sample - loss: 0.5734 - acc: 0.7871\n",
      "Epoch 75/100\n",
      "653/653 [==============================] - 0s 75us/sample - loss: 0.5547 - acc: 0.7917\n",
      "Epoch 76/100\n",
      "653/653 [==============================] - 0s 59us/sample - loss: 0.5277 - acc: 0.7810\n",
      "Epoch 77/100\n",
      "653/653 [==============================] - 0s 59us/sample - loss: 0.4789 - acc: 0.8116\n",
      "Epoch 78/100\n",
      "653/653 [==============================] - 0s 65us/sample - loss: 0.4805 - acc: 0.8132\n",
      "Epoch 79/100\n",
      "653/653 [==============================] - 0s 61us/sample - loss: 0.4929 - acc: 0.7963\n",
      "Epoch 80/100\n",
      "653/653 [==============================] - 0s 61us/sample - loss: 0.4868 - acc: 0.8178\n",
      "Epoch 81/100\n"
     ]
    },
    {
     "name": "stdout",
     "output_type": "stream",
     "text": [
      "653/653 [==============================] - 0s 80us/sample - loss: 0.4914 - acc: 0.8009\n",
      "Epoch 82/100\n",
      "653/653 [==============================] - 0s 59us/sample - loss: 0.5007 - acc: 0.8055\n",
      "Epoch 83/100\n",
      "653/653 [==============================] - 0s 61us/sample - loss: 0.4689 - acc: 0.8193\n",
      "Epoch 84/100\n",
      "653/653 [==============================] - 0s 60us/sample - loss: 0.4894 - acc: 0.8086\n",
      "Epoch 85/100\n",
      "653/653 [==============================] - 0s 54us/sample - loss: 0.4864 - acc: 0.8162\n",
      "Epoch 86/100\n",
      "653/653 [==============================] - 0s 66us/sample - loss: 0.4778 - acc: 0.8055\n",
      "Epoch 87/100\n",
      "653/653 [==============================] - 0s 64us/sample - loss: 0.4570 - acc: 0.8239\n",
      "Epoch 88/100\n",
      "653/653 [==============================] - 0s 65us/sample - loss: 0.4652 - acc: 0.8208\n",
      "Epoch 89/100\n",
      "653/653 [==============================] - 0s 62us/sample - loss: 0.4554 - acc: 0.8224\n",
      "Epoch 90/100\n",
      "653/653 [==============================] - 0s 65us/sample - loss: 0.4579 - acc: 0.8193\n",
      "Epoch 91/100\n",
      "653/653 [==============================] - 0s 52us/sample - loss: 0.4661 - acc: 0.8254\n",
      "Epoch 92/100\n",
      "653/653 [==============================] - 0s 65us/sample - loss: 0.4765 - acc: 0.8162\n",
      "Epoch 93/100\n",
      "653/653 [==============================] - 0s 85us/sample - loss: 0.5275 - acc: 0.7810\n",
      "Epoch 94/100\n",
      "653/653 [==============================] - 0s 67us/sample - loss: 0.4933 - acc: 0.8055\n",
      "Epoch 95/100\n",
      "653/653 [==============================] - 0s 66us/sample - loss: 0.4788 - acc: 0.8178\n",
      "Epoch 96/100\n",
      "653/653 [==============================] - 0s 67us/sample - loss: 0.4425 - acc: 0.8285\n",
      "Epoch 97/100\n",
      "653/653 [==============================] - 0s 59us/sample - loss: 0.4738 - acc: 0.8162\n",
      "Epoch 98/100\n",
      "653/653 [==============================] - 0s 63us/sample - loss: 0.4808 - acc: 0.7933\n",
      "Epoch 99/100\n",
      "653/653 [==============================] - 0s 74us/sample - loss: 0.5318 - acc: 0.7963\n",
      "Epoch 100/100\n",
      "653/653 [==============================] - 0s 49us/sample - loss: 0.4523 - acc: 0.8392\n"
     ]
    }
   ],
   "source": [
    "history = model.fit(x,y,epochs=100)"
   ]
  },
  {
   "cell_type": "code",
   "execution_count": 38,
   "metadata": {},
   "outputs": [
    {
     "data": {
      "text/plain": [
       "[<matplotlib.lines.Line2D at 0x7f20b03c7390>]"
      ]
     },
     "execution_count": 38,
     "metadata": {},
     "output_type": "execute_result"
    },
    {
     "data": {
      "image/png": "[encoded data removed]",
      "text/plain": [
       "<Figure size 432x288 with 1 Axes>"
      ]
     },
     "metadata": {},
     "output_type": "display_data"
    }
   ],
   "source": [
    "plt.plot(history.epoch,history.history.get('loss'))"
   ]
  },
  {
   "cell_type": "code",
   "execution_count": 40,
   "metadata": {},
   "outputs": [
    {
     "data": {
      "text/plain": [
       "[<matplotlib.lines.Line2D at 0x7f20b01de860>]"
      ]
     },
     "execution_count": 40,
     "metadata": {},
     "output_type": "execute_result"
    },
    {
     "data": {
      "image/png": "[encoded data removed]",
      "text/plain": [
       "<Figure size 432x288 with 1 Axes>"
      ]
     },
     "metadata": {},
     "output_type": "display_data"
    }
   ],
   "source": [
    "plt.plot(history.epoch,history.history['acc'])"
   ]
  }
 ],
 "metadata": {
  "kernelspec": {
   "display_name": "Python tf2",
   "language": "python",
   "name": "tf2"
  },
  "language_info": {
   "codemirror_mode": {
    "name": "ipython",
    "version": 3
   },
   "file_extension": ".py",
   "mimetype": "text/x-python",
   "name": "python",
   "nbconvert_exporter": "python",
   "pygments_lexer": "ipython3",
   "version": "3.6.9"
  }
 },
 "nbformat": 4,
 "nbformat_minor": 2
}
